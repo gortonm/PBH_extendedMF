{
 "cells": [
  {
   "cell_type": "code",
   "execution_count": 1,
   "id": "a2bbe71a",
   "metadata": {},
   "outputs": [],
   "source": [
    "import numpy as np\n",
    "import matplotlib.pyplot as plt\n",
    "from reproduce_COMPTEL_constraints_v2 import read_blackhawk_spectra, load_data\n",
    "from tqdm import tqdm\n",
    "import matplotlib as mpl"
   ]
  },
  {
   "cell_type": "code",
   "execution_count": 2,
   "id": "f10da1f9",
   "metadata": {},
   "outputs": [],
   "source": [
    "plt.rcParams['font.size'] = 13\n",
    "plt.rcParams['text.usetex'] = False"
   ]
  },
  {
   "cell_type": "markdown",
   "id": "2ca736bc",
   "metadata": {},
   "source": [
    "Constants"
   ]
  },
  {
   "cell_type": "code",
   "execution_count": 3,
   "id": "1da3954d",
   "metadata": {},
   "outputs": [],
   "source": [
    "# Express all quantities in [g, cm, microgauss, s]\n",
    "\n",
    "# physical constants\n",
    "k_B = 8.617333262e-8  # Boltzmann constant, in keV / K\n",
    "c = 2.99792458e10  # speed of light, in cm / s\n",
    "\n",
    "# unit conversions\n",
    "keV_to_K = 1.160451812e7 * k_B\n",
    "kpc_to_cm = 3.0857e21\n",
    "Mpc_to_cm = 3.0857e24\n",
    "erg_to_GeV = 624.15064799632\n",
    "solMass_to_g = 1.989e33\n",
    "\n",
    "# electron/positron mass, in GeV / c^2\n",
    "m_e = 5.11e-4 / c ** 2\n",
    "\n",
    "# quantities from Table I of Lee & Chan (2021) for A262\n",
    "T_c_keV = 1\n",
    "T_c_K = T_c_keV * keV_to_K\n",
    "rho_s = 14.1e14 * solMass_to_g / (Mpc_to_cm) ** 3\n",
    "r_s = 172 * kpc_to_cm\n",
    "R = 2 * kpc_to_cm\n",
    "z = 0.0161\n",
    "beta = 0.433\n",
    "r_c = 30 * kpc_to_cm\n",
    "n_0 = 0.94e-2\n",
    "B_0 = 2.9\n",
    "L_0 = 5.6e38 * erg_to_GeV \n",
    "\n"
   ]
  },
  {
   "cell_type": "markdown",
   "id": "b40789d3",
   "metadata": {},
   "source": [
    "Ranges"
   ]
  },
  {
   "cell_type": "code",
   "execution_count": 4,
   "id": "fae856c2",
   "metadata": {},
   "outputs": [],
   "source": [
    "n_steps = 1000\n",
    "\n",
    "# energy range to integrate over (in GeV)\n",
    "E_min = m_e * c ** 2\n",
    "E_max = 5\n",
    "E_values = 10 ** np.linspace(np.log10(E_min), np.log10(E_max), n_steps)\n",
    "\n",
    "# radius range\n",
    "r_min = 1e-3\n",
    "r_values = 10 ** np.linspace(np.log10(r_min), np.log10(R), n_steps)\n"
   ]
  },
  {
   "cell_type": "markdown",
   "id": "aab96ccf",
   "metadata": {},
   "source": [
    "Other parameters"
   ]
  },
  {
   "cell_type": "code",
   "execution_count": 5,
   "id": "6f7866d1",
   "metadata": {},
   "outputs": [],
   "source": [
    "extension = \"A262\"\n",
    "\n",
    "epsilon = 0.5  # choose 0.5 to maximise magnetic field\n",
    "\n",
    "const_B = True\n",
    "scipy = False\n",
    "trapz = True\n",
    "numbered_mass_range = True"
   ]
  },
  {
   "cell_type": "markdown",
   "id": "993e378b",
   "metadata": {},
   "source": [
    "MATTS MATHS"
   ]
  },
  {
   "cell_type": "code",
   "execution_count": 6,
   "id": "68cc01bf",
   "metadata": {},
   "outputs": [],
   "source": [
    "# DM density for a NFW profile, in g cm^{-3}\n",
    "def rho_NFW(r):\n",
    "    return rho_s * (r_s / r) / (1 + (r / r_s)) ** 2\n",
    "\n",
    "# number density, in cm^{-3}\n",
    "def n(r):\n",
    "    return n_0 * (1 + r ** 2 / r_c ** 2) ** (-3 * beta / 2)\n",
    "\n",
    "# magnetic field, in microgauss\n",
    "def B(r):\n",
    "    if const_B:\n",
    "        return B_0\n",
    "    else:\n",
    "        return 11 * epsilon ** (-0.5) * np.sqrt(n(r) / 0.1) * (T_c_keV / 2) ** (3 / 4)\n",
    "\n",
    "# Lorentz factor\n",
    "def gamma(E):\n",
    "    return E / (m_e * c ** 2)\n",
    "\n",
    "# Depends on number density n(r) function\n",
    "def b_Coul(E, r):\n",
    "    return 1e-16 * (6.13 * n(r) * (1 + (1 / 75) * np.log(gamma(E) / n(r))))\n",
    "\n",
    "# Depends on number density n(r), b_Coul(n_r)\n",
    "def b_T(E, r):\n",
    "    b_IC = 1e-16 * (0.25 * E ** 2 * (1+z)**4)\n",
    "    b_syn = 1e-16 * (0.0254 * E ** 2 * B(r) ** 2)\n",
    "    b_brem = 1e-16 * (1.51 * n(r) * (np.log(gamma(E) / n(r)) + 0.36))\n",
    "    return b_IC + b_syn + b_brem + b_Coul(E, r)\n",
    "\n",
    "\n",
    "# def spec(E, ep_energies, ep_spec):\n",
    "#     return np.interp(E, ep_energies, ep_spec)\n",
    "\n",
    "\n",
    "# def Q(E, r, m_pbh, ep_energies, ep_spec):\n",
    "#     return spec(E, ep_energies, ep_spec) * rho_NFW(r) / m_pbh\n",
    "\n",
    "\n",
    "# def dndE(E, r, m_pbh, ep_energies, ep_spec):\n",
    "#     E_prime_values = 10 ** np.linspace(np.log10(E), np.log10(E_max), n_steps)\n",
    "#     Q_values = [Q(E_prime, r, m_pbh, ep_energies, ep_spec) for E_prime in E_prime_values]\n",
    "    \n",
    "#     if trapz:\n",
    "#         return np.trapz(Q_values, E_prime_values) / b_T(E, r)\n",
    "\n",
    "#     if scipy:\n",
    "#         return quad(Q, E, E_max, args=(r, m_pbh, ep_energies, ep_spec))[0] / b_T(E, r)\n",
    "\n",
    "# def L_integrand(E, r, m_pbh, ep_energies, ep_spec):\n",
    "#     return dndE(E, r, m_pbh, ep_energies, ep_spec) * r ** 2 * b_Coul(E, r)\n",
    "\n",
    "\n",
    "# def L(m_pbh, ep_energies, ep_spec):\n",
    "\n",
    "#     if trapz:\n",
    "#         integrand = [np.trapz(L_integrand(E_values, r, m_pbh, ep_energies, ep_spec), E_values) for r in r_values]\n",
    "#         return 4 * np.pi * np.trapz(integrand, r_values)\n",
    "\n",
    "#     if scipy:\n",
    "#         return 4 * np.pi * np.array(dblquad(L_integrand, r_min, R, E_min, E_max, args=(m_pbh, ep_energies, ep_spec) )[0])\n"
   ]
  },
  {
   "cell_type": "code",
   "execution_count": 7,
   "id": "0a6e153a",
   "metadata": {},
   "outputs": [],
   "source": [
    "\n",
    "if numbered_mass_range == True:\n",
    "    #m_pbh_values = 10 ** np.linspace(np.log10(5e14), 17, 25)\n",
    "    m_pbh_values = 10 ** np.linspace(np.log10(5e14), 19, 20)\n",
    "    file_path_data_base = \"../Downloads/version_finale/results/\"\n",
    "\n",
    "\n",
    "f_pbh_values = []\n",
    "\n",
    "energies_ref = 10 ** np.linspace(np.log10(E_min), np.log10(E_max), n_steps)\n",
    "\n"
   ]
  },
  {
   "cell_type": "code",
   "execution_count": 8,
   "id": "6e3b7052",
   "metadata": {},
   "outputs": [],
   "source": [
    "# def main():\n",
    "#     for i, m_pbh in tqdm(enumerate(m_pbh_values), total=len(m_pbh_values)):\n",
    "\n",
    "#         #file_path_data = file_path_data_base + \"LC21_{:.0f}/\".format(i + 1)\n",
    "#         file_path_data = file_path_data_base + \"LC21_higherM_{:.0f}/\".format(i + 1)\n",
    "\n",
    "#         ep_energies_load, ep_spec_load = read_blackhawk_spectra(\n",
    "#             file_path_data + \"instantaneous_secondary_spectra.txt\", col=2\n",
    "#         )\n",
    "\n",
    "#         ep_energies = ep_energies_load[ep_spec_load > 0]\n",
    "#         ep_spec = ep_spec_load[ep_spec_load > 0]\n",
    "\n",
    "#         print(\"M_PBH = {:.2e} g\".format(m_pbh))\n",
    "\n",
    "#         # Evaluate photon spectrum at a set of pre-defined energies\n",
    "#         luminosity_predicted = L(m_pbh, ep_energies, ep_spec)\n",
    "#         f_pbh_values.append(L_0 / luminosity_predicted)\n"
   ]
  },
  {
   "cell_type": "markdown",
   "id": "22b8aeb3",
   "metadata": {},
   "source": [
    "## Testing testing"
   ]
  },
  {
   "cell_type": "markdown",
   "id": "bcaa6ba4",
   "metadata": {},
   "source": [
    "Use the lower value of black hole mass"
   ]
  },
  {
   "cell_type": "code",
   "execution_count": 9,
   "id": "8bc3eb68",
   "metadata": {},
   "outputs": [],
   "source": [
    "file_path_extracted = \".\"\n",
    "m_pbh_LC21_extracted, f_PBH_LC21_extracted = load_data(\n",
    "    \"LC21_\" + extension + \"_NFW.csv\"\n",
    ")\n",
    "\n",
    "f_pbh_values = []\n",
    "# main()\n"
   ]
  },
  {
   "cell_type": "code",
   "execution_count": 10,
   "id": "d51a5998",
   "metadata": {},
   "outputs": [
    {
     "name": "stderr",
     "output_type": "stream",
     "text": [
      "100%|███████████████████████████████████████████| 20/20 [00:00<00:00, 25.26it/s]\n"
     ]
    }
   ],
   "source": [
    "from scipy.integrate import cumulative_trapezoid\n",
    "\n",
    "def density_sq(r):\n",
    "    return rho_s * r_s * r / (1 + (r/r_s))**2\n",
    "\n",
    "def b_term(E, r):\n",
    "    return b_Coul(E, r)/b_T(E, r)\n",
    "\n",
    "def integral(m, rvals, ep_spec, ep_energies):\n",
    "    \n",
    "    Rs, Es = np.meshgrid(rvals, ep_energies)\n",
    "\n",
    "    spectral_int = cumulative_trapezoid(ep_spec, ep_energies, initial=0)\n",
    "    spectral_int = spectral_int[-1] - spectral_int\n",
    "\n",
    "    r_terms = density_sq(Rs)\n",
    "    b_terms = b_term(Es, Rs)\n",
    "    \n",
    "    integrand = r_terms*b_terms*spectral_int[:,np.newaxis]\n",
    "    \n",
    "    temp = np.trapz(integrand, x=ep_energies, axis=0)\n",
    "    res  = np.trapz(temp, x=rvals)\n",
    "    \n",
    "    return res*np.pi*4/m\n",
    "\n",
    "\n",
    "\n",
    "\n",
    "f_pbh_values_new = []\n",
    "for i, m_pbh in tqdm(enumerate(m_pbh_values), total=len(m_pbh_values)):\n",
    "\n",
    "    #file_path_data = file_path_data_base + \"LC21_{:.0f}/\".format(i + 1)\n",
    "    file_path_data = file_path_data_base + \"LC21_higherM_{:.0f}/\".format(i + 1)\n",
    "\n",
    "    ep_energies_load, ep_spec_load = read_blackhawk_spectra(\n",
    "        file_path_data + \"instantaneous_secondary_spectra.txt\", col=2\n",
    "    )\n",
    "\n",
    "    ep_energies = ep_energies_load[ep_spec_load > 1e10]\n",
    "    ep_spec = ep_spec_load[ep_spec_load > 1e10]\n",
    "\n",
    "    # Evaluate photon spectrum at a set of pre-defined energies\n",
    "    luminosity_predicted = integral(m_pbh, r_values, ep_spec, ep_energies)\n",
    "    f_pbh_values_new.append(L_0 / luminosity_predicted)\n",
    "\n",
    "    "
   ]
  },
  {
   "cell_type": "markdown",
   "id": "57da49fd",
   "metadata": {},
   "source": [
    "Expected value:"
   ]
  },
  {
   "cell_type": "code",
   "execution_count": 17,
   "id": "7702fc15",
   "metadata": {},
   "outputs": [],
   "source": [
    "extracted_interpolated = 10 ** np.interp(\n",
    "    np.log10(m_pbh_values),\n",
    "    np.log10(m_pbh_LC21_extracted),\n",
    "    np.log10(f_PBH_LC21_extracted),\n",
    ")\n",
    "extracted_interpolated_fewer = []\n",
    "m_pbh_fewer = []\n",
    "for i in range(0, len(extracted_interpolated)):\n",
    "    if i % 1 == 0:\n",
    "        extracted_interpolated_fewer.append(extracted_interpolated[i])\n",
    "        m_pbh_fewer.append(m_pbh_values[i])\n",
    "        \n",
    "\n",
    "ratio_new = extracted_interpolated_fewer / np.array(f_pbh_values_new)\n",
    "\n",
    "# expected = extracted_interpolated_fewer[N]"
   ]
  },
  {
   "cell_type": "code",
   "execution_count": 18,
   "id": "d61ed56a",
   "metadata": {
    "scrolled": true
   },
   "outputs": [
    {
     "data": {
      "image/png": "[encoded data removed]",
      "text/plain": [
       "<Figure size 432x288 with 1 Axes>"
      ]
     },
     "metadata": {
      "needs_background": "light"
     },
     "output_type": "display_data"
    }
   ],
   "source": [
    "plt.figure()\n",
    "# plt.plot(m_pbh_fewer, ratio, \"x\")\n",
    "plt.plot(m_pbh_fewer, ratio_new, \".\", color='C3')\n",
    "plt.xlabel(\"$M_\\mathrm{PBH}$ [g]\")\n",
    "plt.ylabel(\"$f_\\mathrm{PBH, extracted} / f_\\mathrm{PBH, calculated}$\")\n",
    "plt.xscale(\"log\")"
   ]
  },
  {
   "cell_type": "markdown",
   "id": "45b0d316",
   "metadata": {},
   "source": [
    "Check if the interpolation is good:"
   ]
  },
  {
   "cell_type": "code",
   "execution_count": 13,
   "id": "58df5542",
   "metadata": {},
   "outputs": [],
   "source": [
    "# plt.plot(m_pbh_LC21_extracted, f_PBH_LC21_extracted)\n",
    "# # plt.axvline(m_pbh_values[N], color='k', lw=1)\n",
    "# plt.scatter(m_pbh_values, extracted_interpolated_fewer, color='k', s=100)\n",
    "# # plt.scatter(m_pbh_values[:10], np.array(f_pbh_values[:10]), color='C3', s=100)\n",
    "\n",
    "# plt.xscale('log')\n",
    "# plt.yscale('log')\n",
    "\n",
    "# plt.xlim(1e15, 1e17)\n",
    "# plt.ylim(1e-6, 1)"
   ]
  },
  {
   "cell_type": "code",
   "execution_count": null,
   "id": "4329d0c9",
   "metadata": {},
   "outputs": [],
   "source": []
  },
  {
   "cell_type": "code",
   "execution_count": 14,
   "id": "684593df",
   "metadata": {},
   "outputs": [],
   "source": [
    "# # Evaluate photon spectrum at a set of pre-defined energies\n",
    "# # luminosity_predicted = L(m_pbh, ep_energies, ep_spec)\n",
    "# # f_pbh_values.append(L_0 / luminosity_predicted)\n",
    "\n",
    "# calculated = f_pbh_values[N]"
   ]
  },
  {
   "cell_type": "code",
   "execution_count": 15,
   "id": "759de9c0",
   "metadata": {},
   "outputs": [],
   "source": [
    "# # DM density for a NFW profile, in g cm^{-3}\n",
    "# def rho_NFW(r):\n",
    "#     return rho_s * (r_s / r) / (1 + (r / r_s)) ** 2\n",
    "\n",
    "# # number density, in cm^{-3}\n",
    "# def n(r):\n",
    "#     return n_0 * (1 + r ** 2 / r_c ** 2) ** (-3 * beta / 2)\n",
    "\n",
    "# # magnetic field, in microgauss\n",
    "# def B(r):\n",
    "#     if const_B:\n",
    "#         return B_0\n",
    "#     else:\n",
    "#         return 11 * epsilon ** (-0.5) * np.sqrt(n(r) / 0.1) * (T_c_keV / 2) ** (3 / 4)\n",
    "\n",
    "# # Lorentz factor\n",
    "# def gamma(E):\n",
    "#     return E / (m_e * c ** 2)\n",
    "\n",
    "# # Depends on number density n(r) function\n",
    "# def b_Coul(E, r):\n",
    "#     return 1e-16 * (6.13 * n(r) * (1 + (1 / 75) * np.log(gamma(E) / n(r))))\n",
    "\n",
    "# # Depends on number density n(r), b_Coul(n_r)\n",
    "# def b_T(E, r):\n",
    "#     b_IC = 1e-16 * (0.25 * E ** 2 * (1+z)**4)\n",
    "#     b_syn = 1e-16 * (0.0254 * E ** 2 * B(r) ** 2)\n",
    "#     b_brem = 1e-16 * (1.51 * n(r) * (np.log(gamma(E) / n(r)) + 0.36))\n",
    "#     return b_IC + b_syn + b_brem + b_Coul(E, r)\n",
    "\n",
    "\n",
    "# def spec(E, ep_energies, ep_spec):\n",
    "#     return np.interp(E, ep_energies, ep_spec)\n",
    "\n",
    "\n",
    "# def Q(E, r, m_pbh, ep_energies, ep_spec):\n",
    "#     return spec(E, ep_energies, ep_spec) * rho_NFW(r) / m_pbh\n",
    "\n",
    "\n",
    "# def dndE(E, r, m_pbh, ep_energies, ep_spec):\n",
    "#     E_prime_values = 10 ** np.linspace(np.log10(E), np.log10(E_max), n_steps)\n",
    "#     Q_values = [Q(E_prime, r, m_pbh, ep_energies, ep_spec) for E_prime in E_prime_values]\n",
    "    \n",
    "#     if trapz:\n",
    "#         return np.trapz(Q_values, E_prime_values) / b_T(E, r)\n",
    "\n",
    "#     if scipy:\n",
    "#         return quad(Q, E, E_max, args=(r, m_pbh, ep_energies, ep_spec))[0] / b_T(E, r)\n",
    "\n",
    "# def L_integrand(E, r, m_pbh, ep_energies, ep_spec):\n",
    "#     return dndE(E, r, m_pbh, ep_energies, ep_spec) * r ** 2 * b_Coul(E, r)\n",
    "\n",
    "\n",
    "# def L(m_pbh, ep_energies, ep_spec):\n",
    "\n",
    "#     if trapz:\n",
    "#         integrand = [np.trapz(L_integrand(E_values, r, m_pbh, ep_energies, ep_spec), E_values) for r in r_values]\n",
    "#         return 4 * np.pi * np.trapz(integrand, r_values)\n",
    "\n",
    "#     if scipy:\n",
    "#         return 4 * np.pi * np.array(dblquad(L_integrand, r_min, R, E_min, E_max, args=(m_pbh, ep_energies, ep_spec) )[0])\n"
   ]
  },
  {
   "cell_type": "code",
   "execution_count": 16,
   "id": "bca41db0",
   "metadata": {},
   "outputs": [],
   "source": [
    "\n",
    "# index = 40\n",
    "# f_pbh_PL = f_PBH_LC21_extracted[0] * np.exp(40 * m_pbh_LC21_extracted / m_pbh_LC21_extracted[0])\n",
    "\n",
    "\n",
    "# extracted_interpolated = 10 ** np.interp(\n",
    "#     np.log10(m_pbh_values),\n",
    "#     np.log10(m_pbh_LC21_extracted),\n",
    "#     np.log10(f_PBH_LC21_extracted),\n",
    "# )\n",
    "# extracted_interpolated_fewer = []\n",
    "# m_pbh_fewer = []\n",
    "# for i in range(0, len(extracted_interpolated)):\n",
    "#     if i % 1 == 0:\n",
    "#         extracted_interpolated_fewer.append(extracted_interpolated[i])\n",
    "#         m_pbh_fewer.append(m_pbh_values[i])\n",
    "# # ratio = extracted_interpolated_fewer / np.array(f_pbh_values)\n",
    "# # frac_diff = ratio - 1\n",
    "\n",
    "# ratio_new = extracted_interpolated_fewer / np.array(f_pbh_values_new)\n",
    "\n",
    "# plt.figure()\n",
    "# # plt.plot(m_pbh_fewer, f_pbh_values)\n",
    "# plt.plot(m_pbh_LC21_extracted, f_PBH_LC21_extracted, label=\"Extracted (Fig. 1)\")\n",
    "# plt.xlabel(\"$M_\\mathrm{PBH}$ [g]\")\n",
    "# plt.ylabel(\"$f_\\mathrm{PBH}$\")\n",
    "# plt.title(\"extension\")\n",
    "# plt.tight_layout()\n",
    "# plt.legend()\n",
    "# #plt.ylim(1e-8, 1)\n",
    "# #plt.xlim(4e14, 1e17)\n",
    "# plt.yscale(\"log\")\n",
    "# plt.xscale(\"log\")\n",
    "\n",
    "# plt.figure()\n",
    "# # plt.plot(m_pbh_fewer, ratio, \"x\")\n",
    "# plt.plot(m_pbh_fewer, ratio_new, \".\", color='C3')\n",
    "# plt.xlabel(\"$M_\\mathrm{PBH}$ [g]\")\n",
    "# plt.ylabel(\"$f_\\mathrm{PBH, extracted} / f_\\mathrm{PBH, calculated}$\")\n",
    "# plt.xscale(\"log\")\n",
    "\n",
    "# # plt.yscale('log')\n",
    "# #plt.xlim(4e14, 6e16)  # upper limit is where f_PBH = 1 in Fig. 1 of Lee & Chan (2021)\n",
    "# plt.title(extension)\n",
    "# plt.tight_layout()\n",
    "\n",
    "# plt.figure()\n",
    "# # plt.plot(m_pbh_fewer, frac_diff, \"x\")\n",
    "# plt.xlabel(\"$M_\\mathrm{PBH}$ [g]\")\n",
    "# plt.ylabel(\"$(f_\\mathrm{PBH, extracted} / f_\\mathrm{PBH, calculated}) - 1$\")\n",
    "# plt.xscale(\"log\")\n",
    "# # plt.yscale('log')\n",
    "# plt.xlim(4e14, 6e16)  # upper limit is where f_PBH = 1 in Fig. 1 of Lee & Chan (2021)\n",
    "# plt.title(extension)\n",
    "# plt.tight_layout()\n",
    "\n",
    "# print(\"f_PBH =\", f_pbh_values)\n",
    "# # print(\"ratio =\", ratio)\n",
    "# # print(\"fractional difference =\", frac_diff)"
   ]
  },
  {
   "cell_type": "code",
   "execution_count": null,
   "id": "b3f3d831",
   "metadata": {},
   "outputs": [],
   "source": []
  }
 ],
 "metadata": {
  "kernelspec": {
   "display_name": "Python 3 (ipykernel)",
   "language": "python",
   "name": "python3"
  },
  "language_info": {
   "codemirror_mode": {
    "name": "ipython",
    "version": 3
   },
   "file_extension": ".py",
   "mimetype": "text/x-python",
   "name": "python",
   "nbconvert_exporter": "python",
   "pygments_lexer": "ipython3",
   "version": "3.8.3"
  }
 },
 "nbformat": 4,
 "nbformat_minor": 5
}
